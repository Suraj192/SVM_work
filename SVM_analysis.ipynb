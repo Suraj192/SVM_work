{
 "cells": [
  {
   "cell_type": "markdown",
   "metadata": {},
   "source": [
    "# Machine learning with SVM Supervised model"
   ]
  },
  {
   "cell_type": "code",
   "execution_count": 15,
   "metadata": {
    "ExecuteTime": {
     "end_time": "2021-02-13T13:22:32.145241Z",
     "start_time": "2021-02-13T13:22:31.907672Z"
    }
   },
   "outputs": [
    {
     "name": "stdout",
     "output_type": "stream",
     "text": [
      "[0.33471819 0.17695628 0.46237974 0.03460522 0.46374973 0.52878847\n",
      " 0.31025372 0.29677941 0.21303279 0.35465881 0.44576773 0.15917328\n",
      " 0.66220116]\n",
      "[0.         0.06781525 0.31481481 0.57750527 0.64160659 0.26920314\n",
      " 0.20801527 0.28723404 0.08967991]\n",
      "[0.         0.18       0.06781525 0.         0.31481481 0.57750527\n",
      " 0.64160659 0.26920314 0.         0.20801527 0.28723404 1.\n",
      " 0.08967991]\n"
     ]
    }
   ],
   "source": [
    "import pandas as pd\n",
    "import numpy as np\n",
    "\n",
    "from sklearn.tree import DecisionTreeClassifier\n",
    "from sklearn.svm import SVC, SVR\n",
    "from sklearn.linear_model import LogisticRegression\n",
    "from sklearn.model_selection import GridSearchCV, train_test_split\n",
    "from sklearn.ensemble import GradientBoostingRegressor\n",
    "from sklearn.preprocessing import LabelEncoder, MinMaxScaler\n",
    "from sklearn.pipeline import Pipeline\n",
    "from sklearn.metrics import classification_report, mean_squared_error, confusion_matrix\n",
    "from sklearn import feature_selection\n",
    "from sklearn.feature_selection import SelectKBest\n",
    "\n",
    "from imblearn.over_sampling import SMOTE\n",
    "\n",
    "import seaborn as sns\n",
    "import matplotlib.pyplot as plt\n",
    "%matplotlib inline\n",
    "\n",
    "from sklearn.datasets import load_boston\n",
    "data = load_boston()\n",
    "\n",
    "df = pd.DataFrame(data.data)\n",
    "df.head()\n",
    "\n",
    "data.feature_names\n",
    "\n",
    "\n",
    "\n",
    "## Scaling the data with min-max scaler for the regression purpose.\n",
    "mi = MinMaxScaler()\n",
    "scaled_data = mi.fit_transform(data.data)\n",
    "\n",
    "## instantiating the Select-K-Best with the value k=9 \n",
    "selector = feature_selection.SelectKBest(score_func=feature_selection.mutual_info_regression, k=9)\n",
    "\n",
    "## Assigning to the variable for the k best features from the scaled data.\n",
    "feat_selection = selector.fit_transform(scaled_data, data.target)\n",
    "\n",
    "## Understanding the concept of selecting K feature by reviewing relationship of scaled data to target data.\n",
    "## if equal to 0 means, scaled data independent with target data.\n",
    "relation_with_target = feature_selection.mutual_info_regression(scaled_data, data.target)\n",
    "\n",
    "print(relation_with_target)\n",
    "print(feat_selection[0])\n",
    "print(scaled_data[0])\n",
    "\n"
   ]
  },
  {
   "cell_type": "markdown",
   "metadata": {},
   "source": [
    "\n",
    "\n"
   ]
  },
  {
   "cell_type": "markdown",
   "metadata": {},
   "source": [
    "# Performing train test split"
   ]
  },
  {
   "cell_type": "code",
   "execution_count": 2,
   "metadata": {
    "ExecuteTime": {
     "end_time": "2021-02-13T11:04:16.910631Z",
     "start_time": "2021-02-13T11:04:16.905196Z"
    }
   },
   "outputs": [],
   "source": [
    "\n",
    "X_train, X_test, y_train, y_test = train_test_split(feat_selection,\n",
    "                                                   data.target,\n",
    "                                                   random_state = 4)"
   ]
  },
  {
   "cell_type": "markdown",
   "metadata": {
    "ExecuteTime": {
     "end_time": "2021-02-08T06:42:16.527435Z",
     "start_time": "2021-02-08T06:42:16.511461Z"
    }
   },
   "source": [
    "# SVR analysis"
   ]
  },
  {
   "cell_type": "code",
   "execution_count": 3,
   "metadata": {
    "ExecuteTime": {
     "end_time": "2021-02-13T11:04:47.815415Z",
     "start_time": "2021-02-13T11:04:36.534248Z"
    }
   },
   "outputs": [
    {
     "name": "stdout",
     "output_type": "stream",
     "text": [
      "Best cross-validation accuracy : 0.838\n",
      "Best parameters:  {'C': 120, 'epsilon': 0.5, 'kernel': 'rbf'}\n"
     ]
    }
   ],
   "source": [
    "param_grid = {'C':[10, 20, 100, 120],\n",
    "              'epsilon': [0.1, 0.3, 0.4, 0.5],\n",
    "              'kernel' : ['linear', 'poly', 'rbf']\n",
    "              }\n",
    "grid = GridSearchCV(SVR(), param_grid=param_grid)\n",
    "grid.fit(X_train, y_train)\n",
    "print(\"Best cross-validation accuracy : {:.3f}\".format(grid.best_score_))\n",
    "print(\"Best parameters: \", grid.best_params_)\n"
   ]
  },
  {
   "cell_type": "markdown",
   "metadata": {},
   "source": [
    "## Implementing Best parameter to the SVR model"
   ]
  },
  {
   "cell_type": "code",
   "execution_count": 4,
   "metadata": {
    "ExecuteTime": {
     "end_time": "2021-02-13T11:06:52.105776Z",
     "start_time": "2021-02-13T11:06:52.067785Z"
    }
   },
   "outputs": [
    {
     "name": "stdout",
     "output_type": "stream",
     "text": [
      "Training set score: 0.91\n",
      "Test set score: 0.91\n"
     ]
    }
   ],
   "source": [
    "svm = SVR(kernel = 'rbf', C=120, epsilon = 0.5)\n",
    "svm.fit(X_train, y_train)\n",
    "print(\"Training set score: {:.2f}\".format(svm.score(X_train,y_train)))\n",
    "print(\"Test set score: {:.2f}\".format(svm.score(X_test,y_test)))\n",
    "# if model is over fitting reduce gamma"
   ]
  },
  {
   "cell_type": "markdown",
   "metadata": {},
   "source": [
    "# Gradient boosting regressor For Scale Data"
   ]
  },
  {
   "cell_type": "code",
   "execution_count": 5,
   "metadata": {
    "ExecuteTime": {
     "end_time": "2021-02-13T11:10:40.147669Z",
     "start_time": "2021-02-13T11:07:37.241109Z"
    }
   },
   "outputs": [
    {
     "name": "stdout",
     "output_type": "stream",
     "text": [
      "Best cross-validation accuracy : 0.875\n",
      "Best set score: 0.860\n",
      "Best parameters:  {'alpha': 0.1, 'learning_rate': 0.1, 'max_depth': 5, 'max_leaf_nodes': 8}\n"
     ]
    }
   ],
   "source": [
    "param_grid1 = {'learning_rate': [0.01,0.1,0.5,0.7],\n",
    "              'alpha' : [0.1,0.5,0.9],\n",
    "              'max_depth': [4,5,6,7],\n",
    "              'max_leaf_nodes': [4,5,6,7,8]}\n",
    "grid1 = GridSearchCV(GradientBoostingRegressor(random_state=0), param_grid= param_grid1,cv=10)\n",
    "grid1.fit(X_train, y_train)\n",
    "print(\"Best cross-validation accuracy : {:.3f}\".format(grid1.best_score_))\n",
    "print(\"Best set score: {:.3f}\".format(grid1.score(X_test, y_test)))\n",
    "print(\"Best parameters: \", grid1.best_params_)"
   ]
  },
  {
   "cell_type": "markdown",
   "metadata": {},
   "source": [
    "### With the best parameter"
   ]
  },
  {
   "cell_type": "code",
   "execution_count": 6,
   "metadata": {
    "ExecuteTime": {
     "end_time": "2021-02-13T11:16:05.321175Z",
     "start_time": "2021-02-13T11:16:05.205415Z"
    }
   },
   "outputs": [
    {
     "name": "stdout",
     "output_type": "stream",
     "text": [
      "Training set score: 0.98\n",
      "Test set score: 0.87\n"
     ]
    }
   ],
   "source": [
    "gbr = GradientBoostingRegressor(alpha=0.1,learning_rate=0.1, max_depth=5, max_leaf_nodes=8)\n",
    "gbr.fit(X_train, y_train)\n",
    "print(\"Training set score: {:.2f}\".format(gbr.score(X_train,y_train)))\n",
    "print(\"Test set score: {:.2f}\".format(gbr.score(X_test,y_test)))\n"
   ]
  },
  {
   "cell_type": "markdown",
   "metadata": {},
   "source": [
    "# Gradient Boosting without tunning and Without Scalling"
   ]
  },
  {
   "cell_type": "code",
   "execution_count": 7,
   "metadata": {
    "ExecuteTime": {
     "end_time": "2021-02-13T11:16:11.276183Z",
     "start_time": "2021-02-13T11:16:11.269198Z"
    }
   },
   "outputs": [
    {
     "name": "stdout",
     "output_type": "stream",
     "text": [
      "(379, 13) (379,)\n"
     ]
    }
   ],
   "source": [
    "train_X, test_X, train_y, test_y = train_test_split(data.data, data.target,test_size=0.25,random_state=5)\n",
    "print(train_X.shape, train_y.shape)"
   ]
  },
  {
   "cell_type": "code",
   "execution_count": 8,
   "metadata": {
    "ExecuteTime": {
     "end_time": "2021-02-13T11:16:12.611968Z",
     "start_time": "2021-02-13T11:16:12.339860Z"
    }
   },
   "outputs": [
    {
     "name": "stdout",
     "output_type": "stream",
     "text": [
      "Training set score: 0.98\n",
      "Test set score: 0.90\n"
     ]
    },
    {
     "data": {
      "image/png": "[encoded data removed]",
      "text/plain": [
       "<Figure size 432x288 with 1 Axes>"
      ]
     },
     "metadata": {
      "needs_background": "light"
     },
     "output_type": "display_data"
    }
   ],
   "source": [
    "gbr1 = GradientBoostingRegressor()\n",
    "gbr1.fit(train_X, train_y)\n",
    "print(\"Training set score: {:.2f}\".format(gbr1.score(train_X, train_y)))\n",
    "print(\"Test set score: {:.2f}\".format(gbr1.score(test_X, test_y)))\n",
    "plt.barh(range(1,14),gbr1.feature_importances_)\n",
    "plt.yticks(range(1,14), data.feature_names);\n"
   ]
  },
  {
   "cell_type": "markdown",
   "metadata": {},
   "source": [
    "### GradientBoosting with parameter tunning"
   ]
  },
  {
   "cell_type": "code",
   "execution_count": 10,
   "metadata": {
    "ExecuteTime": {
     "end_time": "2021-02-13T11:18:49.201973Z",
     "start_time": "2021-02-13T11:16:44.990149Z"
    }
   },
   "outputs": [
    {
     "name": "stdout",
     "output_type": "stream",
     "text": [
      "Best cross-validation accuracy : 0.882\n",
      "Best parameters:  {'learning_rate': 0.01, 'max_features': 8, 'n_estimators': 800}\n"
     ]
    }
   ],
   "source": [
    "param = {'learning_rate': [0.01,0.1,0.5,0.7],\n",
    "              'n_estimators':[100, 300, 500, 800],\n",
    "        'max_features': [1,2,3,4,5,6,7,8,9]}\n",
    "grid1 = GridSearchCV(GradientBoostingRegressor(loss='ls',random_state=0), param_grid= param,cv=5)\n",
    "grid1.fit(train_X, train_y)\n",
    "print(\"Best cross-validation accuracy : {:.3f}\".format(grid1.best_score_))\n",
    "print(\"Best parameters: \", grid1.best_params_)"
   ]
  },
  {
   "cell_type": "code",
   "execution_count": 12,
   "metadata": {
    "ExecuteTime": {
     "end_time": "2021-02-13T12:28:12.772198Z",
     "start_time": "2021-02-13T12:28:12.267555Z"
    }
   },
   "outputs": [
    {
     "name": "stdout",
     "output_type": "stream",
     "text": [
      "Training set score: 0.97\n",
      "Test set score: 0.91\n"
     ]
    }
   ],
   "source": [
    "gb = GradientBoostingRegressor(learning_rate=0.01, max_features=8, n_estimators= 800, loss='ls',random_state=0)\n",
    "gb.fit(train_X, train_y)\n",
    "print(\"Training set score: {:.2f}\".format(gb.score(train_X, train_y)))\n",
    "print(\"Test set score: {:.2f}\".format(gb.score(test_X, test_y)))"
   ]
  },
  {
   "cell_type": "markdown",
   "metadata": {},
   "source": [
    "## Conclusion with regression model\n",
    "- From above two model Although the Accuracy is high with the Gradient Boosting Regressor, It shows the overfiting model and generalization of the model is not good for the alien data. However, SVR model's accuracy is good along with its generalization score. Hence, SVR model is choosen among above two models."
   ]
  },
  {
   "cell_type": "markdown",
   "metadata": {},
   "source": [
    "# An example for Classification"
   ]
  },
  {
   "cell_type": "code",
   "execution_count": 3,
   "metadata": {
    "ExecuteTime": {
     "end_time": "2021-02-13T13:16:35.684919Z",
     "start_time": "2021-02-13T13:16:35.659919Z"
    }
   },
   "outputs": [
    {
     "name": "stdout",
     "output_type": "stream",
     "text": [
      "<class 'pandas.core.frame.DataFrame'>\n",
      "RangeIndex: 891 entries, 0 to 890\n",
      "Data columns (total 12 columns):\n",
      " #   Column       Non-Null Count  Dtype  \n",
      "---  ------       --------------  -----  \n",
      " 0   PassengerId  891 non-null    int64  \n",
      " 1   Survived     891 non-null    int64  \n",
      " 2   Pclass       891 non-null    int64  \n",
      " 3   Name         891 non-null    object \n",
      " 4   Sex          891 non-null    object \n",
      " 5   Age          714 non-null    float64\n",
      " 6   SibSp        891 non-null    int64  \n",
      " 7   Parch        891 non-null    int64  \n",
      " 8   Ticket       891 non-null    object \n",
      " 9   Fare         891 non-null    float64\n",
      " 10  Cabin        204 non-null    object \n",
      " 11  Embarked     889 non-null    object \n",
      "dtypes: float64(2), int64(5), object(5)\n",
      "memory usage: 83.7+ KB\n",
      "None\n"
     ]
    }
   ],
   "source": [
    "titanic = pd.read_csv(\"train.csv\")\n",
    "print(titanic.info())"
   ]
  },
  {
   "cell_type": "code",
   "execution_count": 4,
   "metadata": {
    "ExecuteTime": {
     "end_time": "2021-02-13T13:16:36.507141Z",
     "start_time": "2021-02-13T13:16:36.486144Z"
    }
   },
   "outputs": [
    {
     "name": "stdout",
     "output_type": "stream",
     "text": [
      "<class 'pandas.core.frame.DataFrame'>\n",
      "Int64Index: 889 entries, 0 to 890\n",
      "Data columns (total 8 columns):\n",
      " #   Column    Non-Null Count  Dtype  \n",
      "---  ------    --------------  -----  \n",
      " 0   Survived  889 non-null    int64  \n",
      " 1   Pclass    889 non-null    int64  \n",
      " 2   Sex       889 non-null    int64  \n",
      " 3   Age       889 non-null    float64\n",
      " 4   SibSp     889 non-null    int64  \n",
      " 5   Parch     889 non-null    int64  \n",
      " 6   Fare      889 non-null    float64\n",
      " 7   Embarked  889 non-null    int32  \n",
      "dtypes: float64(2), int32(1), int64(5)\n",
      "memory usage: 59.0 KB\n",
      "None\n"
     ]
    }
   ],
   "source": [
    "titanic = titanic.drop(labels=['Name','Ticket','Cabin','PassengerId'], axis=1)\n",
    "titanic['Age'] = titanic['Age'].fillna((titanic['Age'].mean()))\n",
    "titanic = titanic.dropna()\n",
    "\n",
    "le= LabelEncoder()\n",
    "titanic['Embarked']=le.fit_transform(titanic.Embarked)\n",
    "titanic['Sex']=titanic.Sex.map({'male':0,'female':1})\n",
    "print(titanic.info())"
   ]
  },
  {
   "cell_type": "code",
   "execution_count": 5,
   "metadata": {
    "ExecuteTime": {
     "end_time": "2021-02-13T13:16:37.487853Z",
     "start_time": "2021-02-13T13:16:37.424313Z"
    }
   },
   "outputs": [
    {
     "name": "stdout",
     "output_type": "stream",
     "text": [
      "Training data set : 0.7805100182149363\n"
     ]
    }
   ],
   "source": [
    "X1, y1 = titanic.iloc[:,1:] , titanic.iloc[:,0]\n",
    "X_sample , y_sample = SMOTE().fit_sample(X1,y1)\n",
    "\n",
    "## Scalling the data with min-max scaler\n",
    "scale = MinMaxScaler()\n",
    "titanic_scale_data = scale.fit_transform(X_sample)\n",
    "\n",
    "## Fitting the data in the model\n",
    "svc = SVC()\n",
    "svc.fit(titanic_scale_data, y_sample)\n",
    "\n",
    "# Checking whole dataset without parameter tuning\n",
    "print(f\"Training data set : {svc.score(titanic_scale_data,y_sample)}\")"
   ]
  },
  {
   "cell_type": "code",
   "execution_count": 6,
   "metadata": {
    "ExecuteTime": {
     "end_time": "2021-02-13T13:16:39.300769Z",
     "start_time": "2021-02-13T13:16:39.264241Z"
    }
   },
   "outputs": [
    {
     "name": "stdout",
     "output_type": "stream",
     "text": [
      "Training set score: 0.7679222357229648\n",
      "Test set score: 0.8145454545454546\n"
     ]
    }
   ],
   "source": [
    "# performing train test split\n",
    "X_train_titanic, X_test_titanic, y_train_titanic, y_test_titanic = train_test_split(titanic_scale_data, y_sample, random_state = 5)\n",
    "\n",
    "X_train_titanic.shape\n",
    "\n",
    "# preparing other model for testing the alien data in the model\n",
    "svc1 = SVC()\n",
    "svc1.fit(X_train_titanic, y_train_titanic)\n",
    "print(f\"Training set score: {svc1.score(X_train_titanic, y_train_titanic)}\")\n",
    "print(f\"Test set score: {svc1.score(X_test_titanic, y_test_titanic)}\")"
   ]
  },
  {
   "cell_type": "markdown",
   "metadata": {
    "ExecuteTime": {
     "end_time": "2021-02-13T13:29:37.990322Z",
     "start_time": "2021-02-13T13:29:37.985634Z"
    }
   },
   "source": [
    "### parameter tunining with grid search cv"
   ]
  },
  {
   "cell_type": "code",
   "execution_count": 9,
   "metadata": {
    "ExecuteTime": {
     "end_time": "2021-02-13T13:20:03.981006Z",
     "start_time": "2021-02-13T13:20:02.235102Z"
    }
   },
   "outputs": [
    {
     "name": "stdout",
     "output_type": "stream",
     "text": [
      "best parameter: {'C': 100, 'gamma': 'scale', 'kernel': 'rbf'}\n"
     ]
    }
   ],
   "source": [
    "para = {\"C\": [ 1, 10, 100],\n",
    "        'gamma': ['scale', 'auto'],\n",
    "       'kernel': ['linear', 'poly', 'rbf', 'sigmoid']}\n",
    "\n",
    "grid3 = GridSearchCV(SVC(), param_grid= para, cv = 5)\n",
    "grid3.fit(X_train_titanic, y_train_titanic)\n",
    "print(f\"best parameter: {grid3.best_params_}\")"
   ]
  },
  {
   "cell_type": "code",
   "execution_count": 11,
   "metadata": {
    "ExecuteTime": {
     "end_time": "2021-02-13T13:21:11.364603Z",
     "start_time": "2021-02-13T13:21:11.315611Z"
    }
   },
   "outputs": [
    {
     "name": "stdout",
     "output_type": "stream",
     "text": [
      " Training set score: 0.8286755771567437\n",
      " Test set score: 0.8145454545454546\n"
     ]
    }
   ],
   "source": [
    "svc4 = SVC(kernel= 'rbf', C = 100, gamma = 'scale' )\n",
    "svc4.fit(X_train_titanic, y_train_titanic)\n",
    "print(f\" Training set score: {svc4.score(X_train_titanic, y_train_titanic)}\")\n",
    "print(f\" Test set score: {svc4.score(X_test_titanic, y_test_titanic)}\")"
   ]
  },
  {
   "cell_type": "markdown",
   "metadata": {
    "ExecuteTime": {
     "end_time": "2021-02-08T06:58:33.513867Z",
     "start_time": "2021-02-08T06:58:33.506974Z"
    }
   },
   "source": [
    "## using pipe for above mention code\n"
   ]
  },
  {
   "cell_type": "code",
   "execution_count": 19,
   "metadata": {
    "ExecuteTime": {
     "end_time": "2021-02-13T13:25:52.684389Z",
     "start_time": "2021-02-13T13:25:52.637832Z"
    }
   },
   "outputs": [
    {
     "name": "stdout",
     "output_type": "stream",
     "text": [
      " Training set score: 0.827460510328068\n",
      " Test set score: 0.8145454545454546\n"
     ]
    }
   ],
   "source": [
    "pipe = Pipeline([('scale', MinMaxScaler()),\n",
    "                    ('svm', SVC(kernel= 'rbf', C = 100, gamma='scale', random_state=4))])\n",
    "\n",
    "pipe.fit(X_train_titanic, y_train_titanic)\n",
    "print(f\" Training set score: {pipe.score(X_train_titanic, y_train_titanic)}\")\n",
    "print(f\" Test set score: {pipe.score(X_test_titanic, y_test_titanic)}\")"
   ]
  },
  {
   "cell_type": "code",
   "execution_count": 20,
   "metadata": {
    "ExecuteTime": {
     "end_time": "2021-02-13T13:25:53.925066Z",
     "start_time": "2021-02-13T13:25:53.775601Z"
    }
   },
   "outputs": [
    {
     "name": "stdout",
     "output_type": "stream",
     "text": [
      "              precision    recall  f1-score   support\n",
      "\n",
      "           0       0.80      0.84      0.82       138\n",
      "           1       0.83      0.79      0.81       137\n",
      "\n",
      "    accuracy                           0.81       275\n",
      "   macro avg       0.82      0.81      0.81       275\n",
      "weighted avg       0.82      0.81      0.81       275\n",
      "\n"
     ]
    },
    {
     "data": {
      "text/plain": [
       "<matplotlib.axes._subplots.AxesSubplot at 0x17119b7df70>"
      ]
     },
     "execution_count": 20,
     "metadata": {},
     "output_type": "execute_result"
    },
    {
     "data": {
      "image/png": "[encoded data removed]",
      "text/plain": [
       "<Figure size 432x288 with 2 Axes>"
      ]
     },
     "metadata": {
      "needs_background": "light"
     },
     "output_type": "display_data"
    }
   ],
   "source": [
    "predict = pipe.predict(X_test_titanic)\n",
    "con_mat = confusion_matrix(y_test_titanic, predict)\n",
    "\n",
    "# True survived 108(True negetive), True death 116(True positive), \n",
    "#False Survived 22(False negative), False death 29(True negative)\n",
    "print(classification_report(y_test_titanic, predict))\n",
    "\n",
    "sns.heatmap(con_mat, annot= True, fmt='g')\n"
   ]
  },
  {
   "cell_type": "markdown",
   "metadata": {},
   "source": [
    "### conclusion on classification\n",
    "- on hyperparameter tunning with the data, we got better accuracy and better generalization as well on SVC model"
   ]
  },
  {
   "cell_type": "markdown",
   "metadata": {},
   "source": [
    "### Note:-\n",
    "\n",
    "#### Regression\n",
    "- linear regression\n",
    " - Ridge\n",
    " - Lasso\n",
    "- Decision tree regressor\n",
    "- Bagging\n",
    "- pasting\n",
    "- Ada Boost\n",
    "\n",
    "#### Classification\n",
    "\n",
    "- Logistic Regression\n",
    "- Decision Tree\n",
    "- Bagging\n",
    "- Ada Boost\n",
    "- Random forest\n",
    "\n",
    "In order to see which model will perform good in the particular dataset, we can perform hyperparameter tunning on each model at first, and with the cross-validation score can sort list the few models. It is then put through the ensembler or voting method to select the model."
   ]
  },
  {
   "cell_type": "code",
   "execution_count": null,
   "metadata": {},
   "outputs": [],
   "source": []
  }
 ],
 "metadata": {
  "kernelspec": {
   "display_name": "Python 3",
   "language": "python",
   "name": "python3"
  },
  "language_info": {
   "codemirror_mode": {
    "name": "ipython",
    "version": 3
   },
   "file_extension": ".py",
   "mimetype": "text/x-python",
   "name": "python",
   "nbconvert_exporter": "python",
   "pygments_lexer": "ipython3",
   "version": "3.8.3"
  },
  "toc": {
   "base_numbering": 1,
   "nav_menu": {},
   "number_sections": true,
   "sideBar": true,
   "skip_h1_title": false,
   "title_cell": "Table of Contents",
   "title_sidebar": "Contents",
   "toc_cell": false,
   "toc_position": {},
   "toc_section_display": true,
   "toc_window_display": false
  },
  "varInspector": {
   "cols": {
    "lenName": 16,
    "lenType": 16,
    "lenVar": 40
   },
   "kernels_config": {
    "python": {
     "delete_cmd_postfix": "",
     "delete_cmd_prefix": "del ",
     "library": "var_list.py",
     "varRefreshCmd": "print(var_dic_list())"
    },
    "r": {
     "delete_cmd_postfix": ") ",
     "delete_cmd_prefix": "rm(",
     "library": "var_list.r",
     "varRefreshCmd": "cat(var_dic_list()) "
    }
   },
   "types_to_exclude": [
    "module",
    "function",
    "builtin_function_or_method",
    "instance",
    "_Feature"
   ],
   "window_display": false
  }
 },
 "nbformat": 4,
 "nbformat_minor": 4
}
